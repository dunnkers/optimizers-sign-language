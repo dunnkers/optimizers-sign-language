{
 "cells": [
  {
   "cell_type": "code",
   "execution_count": 34,
   "metadata": {},
   "outputs": [
    {
     "output_type": "execute_result",
     "data": {
      "text/plain": [
       "'1.15.5'"
      ]
     },
     "metadata": {},
     "execution_count": 34
    }
   ],
   "source": [
    "import matplotlib.pyplot as plt\n",
    "import os\n",
    "import numpy as np\n",
    "import pandas as pd\n",
    "import tensorflow as tf\n",
    "tf.__version__"
   ]
  },
  {
   "cell_type": "code",
   "execution_count": 35,
   "metadata": {},
   "outputs": [
    {
     "output_type": "stream",
     "name": "stdout",
     "text": [
      "_________________________________________________________________\nLayer (type)                 Output Shape              Param #   \n=================================================================\nconv2d_19 (Conv2D)           (None, 61, 61, 64)        3136      \n_________________________________________________________________\nconv2d_20 (Conv2D)           (None, 29, 29, 64)        65600     \n_________________________________________________________________\ndropout_10 (Dropout)         (None, 29, 29, 64)        0         \n_________________________________________________________________\nconv2d_21 (Conv2D)           (None, 26, 26, 128)       131200    \n_________________________________________________________________\nconv2d_22 (Conv2D)           (None, 12, 12, 128)       262272    \n_________________________________________________________________\ndropout_11 (Dropout)         (None, 12, 12, 128)       0         \n_________________________________________________________________\nconv2d_23 (Conv2D)           (None, 9, 9, 256)         524544    \n_________________________________________________________________\nconv2d_24 (Conv2D)           (None, 3, 3, 256)         1048832   \n_________________________________________________________________\nflatten_4 (Flatten)          (None, 2304)              0         \n_________________________________________________________________\ndropout_12 (Dropout)         (None, 2304)              0         \n_________________________________________________________________\ndense_6 (Dense)              (None, 512)               1180160   \n_________________________________________________________________\ndense_7 (Dense)              (None, 29)                14877     \n=================================================================\nTotal params: 3,230,621\nTrainable params: 3,230,621\nNon-trainable params: 0\n_________________________________________________________________\n"
     ]
    }
   ],
   "source": [
    "from keras.layers import Conv2D, Dense, Dropout, Flatten\n",
    "from keras.models import Sequential\n",
    "model = Sequential()\n",
    "model.add(Conv2D(64, kernel_size=4, strides=1, activation='relu', input_shape=(64, 64, 3)))\n",
    "model.add(Conv2D(64, kernel_size=4, strides=2, activation='relu'))\n",
    "model.add(Dropout(0.5))\n",
    "model.add(Conv2D(128, kernel_size=4, strides=1, activation='relu'))\n",
    "model.add(Conv2D(128, kernel_size=4, strides=2, activation='relu'))\n",
    "model.add(Dropout(0.5))\n",
    "model.add(Conv2D(256, kernel_size=4, strides=1, activation='relu'))\n",
    "model.add(Conv2D(256, kernel_size=4, strides=2, activation='relu'))\n",
    "model.add(Flatten())\n",
    "model.add(Dropout(0.5))\n",
    "model.add(Dense(512, activation='relu'))\n",
    "model.add(Dense(29, activation='softmax'))\n",
    "model.load_weights('../models/kaggle_Adam/model.h5')\n",
    "model.compile(optimizer='adam', loss='categorical_crossentropy', metrics=['accuracy'])\n",
    "model.summary()"
   ]
  },
  {
   "cell_type": "code",
   "execution_count": 32,
   "metadata": {},
   "outputs": [
    {
     "output_type": "stream",
     "name": "stdout",
     "text": [
      "WARNING:tensorflow:From /home/s2995697/Documents/git/deep-learning/venv/lib/python3.7/site-packages/keras/optimizers.py:757: The name tf.train.Optimizer is deprecated. Please use tf.compat.v1.train.Optimizer instead.\n",
      "\n",
      "WARNING:tensorflow:From /home/s2995697/Documents/git/deep-learning/venv/lib/python3.7/site-packages/keras/backend/tensorflow_backend.py:3008: The name tf.log is deprecated. Please use tf.math.log instead.\n",
      "\n"
     ]
    }
   ],
   "source": []
  },
  {
   "cell_type": "code",
   "execution_count": 41,
   "metadata": {},
   "outputs": [
    {
     "output_type": "stream",
     "name": "stdout",
     "text": [
      "Model: \"sequential_7\"\n_________________________________________________________________\nLayer (type)                 Output Shape              Param #   \n=================================================================\nconv2d_1 (Conv2D)            (None, 61, 61, 64)        3136      \n_________________________________________________________________\nconv2d_2 (Conv2D)            (None, 29, 29, 64)        65600     \n_________________________________________________________________\ndropout_1 (Dropout)          (None, 29, 29, 64)        0         \n_________________________________________________________________\nconv2d_3 (Conv2D)            (None, 26, 26, 128)       131200    \n_________________________________________________________________\nconv2d_4 (Conv2D)            (None, 12, 12, 128)       262272    \n_________________________________________________________________\ndropout_2 (Dropout)          (None, 12, 12, 128)       0         \n_________________________________________________________________\nconv2d_5 (Conv2D)            (None, 9, 9, 256)         524544    \n_________________________________________________________________\nconv2d_6 (Conv2D)            (None, 3, 3, 256)         1048832   \n_________________________________________________________________\nflatten_1 (Flatten)          (None, 2304)              0         \n_________________________________________________________________\ndropout_3 (Dropout)          (None, 2304)              0         \n_________________________________________________________________\ndense_1 (Dense)              (None, 512)               1180160   \n_________________________________________________________________\ndense_2 (Dense)              (None, 29)                14877     \n=================================================================\nTotal params: 3,230,621\nTrainable params: 3,230,621\nNon-trainable params: 0\n_________________________________________________________________\n"
     ]
    }
   ],
   "source": [
    "model = tf.keras.models.load_model('../models/kaggle_Adamax/model.h5', compile=False)\n",
    "model.compile(optimizer='adam', loss='categorical_crossentropy', metrics=['accuracy'])\n",
    "model.summary()"
   ]
  },
  {
   "cell_type": "code",
   "execution_count": 91,
   "metadata": {},
   "outputs": [
    {
     "output_type": "execute_result",
     "data": {
      "text/plain": [
       "array([10,  1, 21,  0, 11, 15, 23, 13, 25,  3, 27, 18,  7,  2, 28,  6, 14,\n",
       "        2,  4,  5,  0, 16, 12, 20, 22,  9,  3,  1, 19,  8, 17, 24])"
      ]
     },
     "metadata": {},
     "execution_count": 91
    }
   ],
   "source": [
    "encoding = np.array([\n",
    "  'A', 'B', 'C', 'D', 'E', 'F', 'G', 'H', 'I', 'J', 'K', 'L', 'M', 'N', 'O', 'P', 'Q', 'R', 'S', 'T', 'U', 'V', 'W', 'X', 'Y', 'Z', 'del', 'nothing', 'space'\n",
    "])"
   ]
  },
  {
   "cell_type": "code",
   "execution_count": 126,
   "metadata": {},
   "outputs": [
    {
     "output_type": "stream",
     "name": "stdout",
     "text": [
      "Found 87000 images belonging to 29 classes.\n"
     ]
    }
   ],
   "source": [
    "    \n",
    "from keras.preprocessing.image import ImageDataGenerator\n",
    "data_augmentor = ImageDataGenerator(samplewise_center=True, \n",
    "                                    samplewise_std_normalization=True)\n",
    "train_generator = data_augmentor.flow_from_directory('../datasets/asl_alphabet_train/asl_alphabet_train',\n",
    "    target_size=(64, 64), batch_size=32, shuffle=False)"
   ]
  },
  {
   "cell_type": "code",
   "execution_count": null,
   "metadata": {},
   "outputs": [],
   "source": []
  },
  {
   "cell_type": "code",
   "execution_count": 101,
   "metadata": {},
   "outputs": [
    {
     "output_type": "execute_result",
     "data": {
      "text/plain": [
       "                                                paths         filenames  \\\n",
       "0         ../demo/public/asl_alphabet_test/K_test.jpg        K_test.jpg   \n",
       "1         ../demo/public/asl_alphabet_test/B_test.jpg        B_test.jpg   \n",
       "2         ../demo/public/asl_alphabet_test/V_test.jpg        V_test.jpg   \n",
       "3            ../demo/public/asl_alphabet_test/A_1.jpg           A_1.jpg   \n",
       "4         ../demo/public/asl_alphabet_test/L_test.jpg        L_test.jpg   \n",
       "5         ../demo/public/asl_alphabet_test/P_test.jpg        P_test.jpg   \n",
       "6         ../demo/public/asl_alphabet_test/X_test.jpg        X_test.jpg   \n",
       "7         ../demo/public/asl_alphabet_test/N_test.jpg        N_test.jpg   \n",
       "8         ../demo/public/asl_alphabet_test/Z_test.jpg        Z_test.jpg   \n",
       "9            ../demo/public/asl_alphabet_test/D_1.jpg           D_1.jpg   \n",
       "10  ../demo/public/asl_alphabet_test/nothing_test.jpg  nothing_test.jpg   \n",
       "11        ../demo/public/asl_alphabet_test/S_test.jpg        S_test.jpg   \n",
       "12        ../demo/public/asl_alphabet_test/H_test.jpg        H_test.jpg   \n",
       "13           ../demo/public/asl_alphabet_test/C_1.jpg           C_1.jpg   \n",
       "14    ../demo/public/asl_alphabet_test/space_test.jpg    space_test.jpg   \n",
       "15        ../demo/public/asl_alphabet_test/G_test.jpg        G_test.jpg   \n",
       "16        ../demo/public/asl_alphabet_test/O_test.jpg        O_test.jpg   \n",
       "17        ../demo/public/asl_alphabet_test/C_test.jpg        C_test.jpg   \n",
       "18        ../demo/public/asl_alphabet_test/E_test.jpg        E_test.jpg   \n",
       "19        ../demo/public/asl_alphabet_test/F_test.jpg        F_test.jpg   \n",
       "20        ../demo/public/asl_alphabet_test/A_test.jpg        A_test.jpg   \n",
       "21        ../demo/public/asl_alphabet_test/Q_test.jpg        Q_test.jpg   \n",
       "22        ../demo/public/asl_alphabet_test/M_test.jpg        M_test.jpg   \n",
       "23        ../demo/public/asl_alphabet_test/U_test.jpg        U_test.jpg   \n",
       "24        ../demo/public/asl_alphabet_test/W_test.jpg        W_test.jpg   \n",
       "25        ../demo/public/asl_alphabet_test/J_test.jpg        J_test.jpg   \n",
       "26        ../demo/public/asl_alphabet_test/D_test.jpg        D_test.jpg   \n",
       "27           ../demo/public/asl_alphabet_test/B_1.jpg           B_1.jpg   \n",
       "28        ../demo/public/asl_alphabet_test/T_test.jpg        T_test.jpg   \n",
       "29        ../demo/public/asl_alphabet_test/I_test.jpg        I_test.jpg   \n",
       "30        ../demo/public/asl_alphabet_test/R_test.jpg        R_test.jpg   \n",
       "31        ../demo/public/asl_alphabet_test/Y_test.jpg        Y_test.jpg   \n",
       "\n",
       "    classes  labels  \n",
       "0         K      10  \n",
       "1         B       1  \n",
       "2         V      21  \n",
       "3         A       0  \n",
       "4         L      11  \n",
       "5         P      15  \n",
       "6         X      23  \n",
       "7         N      13  \n",
       "8         Z      25  \n",
       "9         D       3  \n",
       "10  nothing      27  \n",
       "11        S      18  \n",
       "12        H       7  \n",
       "13        C       2  \n",
       "14    space      28  \n",
       "15        G       6  \n",
       "16        O      14  \n",
       "17        C       2  \n",
       "18        E       4  \n",
       "19        F       5  \n",
       "20        A       0  \n",
       "21        Q      16  \n",
       "22        M      12  \n",
       "23        U      20  \n",
       "24        W      22  \n",
       "25        J       9  \n",
       "26        D       3  \n",
       "27        B       1  \n",
       "28        T      19  \n",
       "29        I       8  \n",
       "30        R      17  \n",
       "31        Y      24  "
      ],
      "text/html": "<div>\n<style scoped>\n    .dataframe tbody tr th:only-of-type {\n        vertical-align: middle;\n    }\n\n    .dataframe tbody tr th {\n        vertical-align: top;\n    }\n\n    .dataframe thead th {\n        text-align: right;\n    }\n</style>\n<table border=\"1\" class=\"dataframe\">\n  <thead>\n    <tr style=\"text-align: right;\">\n      <th></th>\n      <th>paths</th>\n      <th>filenames</th>\n      <th>classes</th>\n      <th>labels</th>\n    </tr>\n  </thead>\n  <tbody>\n    <tr>\n      <th>0</th>\n      <td>../demo/public/asl_alphabet_test/K_test.jpg</td>\n      <td>K_test.jpg</td>\n      <td>K</td>\n      <td>10</td>\n    </tr>\n    <tr>\n      <th>1</th>\n      <td>../demo/public/asl_alphabet_test/B_test.jpg</td>\n      <td>B_test.jpg</td>\n      <td>B</td>\n      <td>1</td>\n    </tr>\n    <tr>\n      <th>2</th>\n      <td>../demo/public/asl_alphabet_test/V_test.jpg</td>\n      <td>V_test.jpg</td>\n      <td>V</td>\n      <td>21</td>\n    </tr>\n    <tr>\n      <th>3</th>\n      <td>../demo/public/asl_alphabet_test/A_1.jpg</td>\n      <td>A_1.jpg</td>\n      <td>A</td>\n      <td>0</td>\n    </tr>\n    <tr>\n      <th>4</th>\n      <td>../demo/public/asl_alphabet_test/L_test.jpg</td>\n      <td>L_test.jpg</td>\n      <td>L</td>\n      <td>11</td>\n    </tr>\n    <tr>\n      <th>5</th>\n      <td>../demo/public/asl_alphabet_test/P_test.jpg</td>\n      <td>P_test.jpg</td>\n      <td>P</td>\n      <td>15</td>\n    </tr>\n    <tr>\n      <th>6</th>\n      <td>../demo/public/asl_alphabet_test/X_test.jpg</td>\n      <td>X_test.jpg</td>\n      <td>X</td>\n      <td>23</td>\n    </tr>\n    <tr>\n      <th>7</th>\n      <td>../demo/public/asl_alphabet_test/N_test.jpg</td>\n      <td>N_test.jpg</td>\n      <td>N</td>\n      <td>13</td>\n    </tr>\n    <tr>\n      <th>8</th>\n      <td>../demo/public/asl_alphabet_test/Z_test.jpg</td>\n      <td>Z_test.jpg</td>\n      <td>Z</td>\n      <td>25</td>\n    </tr>\n    <tr>\n      <th>9</th>\n      <td>../demo/public/asl_alphabet_test/D_1.jpg</td>\n      <td>D_1.jpg</td>\n      <td>D</td>\n      <td>3</td>\n    </tr>\n    <tr>\n      <th>10</th>\n      <td>../demo/public/asl_alphabet_test/nothing_test.jpg</td>\n      <td>nothing_test.jpg</td>\n      <td>nothing</td>\n      <td>27</td>\n    </tr>\n    <tr>\n      <th>11</th>\n      <td>../demo/public/asl_alphabet_test/S_test.jpg</td>\n      <td>S_test.jpg</td>\n      <td>S</td>\n      <td>18</td>\n    </tr>\n    <tr>\n      <th>12</th>\n      <td>../demo/public/asl_alphabet_test/H_test.jpg</td>\n      <td>H_test.jpg</td>\n      <td>H</td>\n      <td>7</td>\n    </tr>\n    <tr>\n      <th>13</th>\n      <td>../demo/public/asl_alphabet_test/C_1.jpg</td>\n      <td>C_1.jpg</td>\n      <td>C</td>\n      <td>2</td>\n    </tr>\n    <tr>\n      <th>14</th>\n      <td>../demo/public/asl_alphabet_test/space_test.jpg</td>\n      <td>space_test.jpg</td>\n      <td>space</td>\n      <td>28</td>\n    </tr>\n    <tr>\n      <th>15</th>\n      <td>../demo/public/asl_alphabet_test/G_test.jpg</td>\n      <td>G_test.jpg</td>\n      <td>G</td>\n      <td>6</td>\n    </tr>\n    <tr>\n      <th>16</th>\n      <td>../demo/public/asl_alphabet_test/O_test.jpg</td>\n      <td>O_test.jpg</td>\n      <td>O</td>\n      <td>14</td>\n    </tr>\n    <tr>\n      <th>17</th>\n      <td>../demo/public/asl_alphabet_test/C_test.jpg</td>\n      <td>C_test.jpg</td>\n      <td>C</td>\n      <td>2</td>\n    </tr>\n    <tr>\n      <th>18</th>\n      <td>../demo/public/asl_alphabet_test/E_test.jpg</td>\n      <td>E_test.jpg</td>\n      <td>E</td>\n      <td>4</td>\n    </tr>\n    <tr>\n      <th>19</th>\n      <td>../demo/public/asl_alphabet_test/F_test.jpg</td>\n      <td>F_test.jpg</td>\n      <td>F</td>\n      <td>5</td>\n    </tr>\n    <tr>\n      <th>20</th>\n      <td>../demo/public/asl_alphabet_test/A_test.jpg</td>\n      <td>A_test.jpg</td>\n      <td>A</td>\n      <td>0</td>\n    </tr>\n    <tr>\n      <th>21</th>\n      <td>../demo/public/asl_alphabet_test/Q_test.jpg</td>\n      <td>Q_test.jpg</td>\n      <td>Q</td>\n      <td>16</td>\n    </tr>\n    <tr>\n      <th>22</th>\n      <td>../demo/public/asl_alphabet_test/M_test.jpg</td>\n      <td>M_test.jpg</td>\n      <td>M</td>\n      <td>12</td>\n    </tr>\n    <tr>\n      <th>23</th>\n      <td>../demo/public/asl_alphabet_test/U_test.jpg</td>\n      <td>U_test.jpg</td>\n      <td>U</td>\n      <td>20</td>\n    </tr>\n    <tr>\n      <th>24</th>\n      <td>../demo/public/asl_alphabet_test/W_test.jpg</td>\n      <td>W_test.jpg</td>\n      <td>W</td>\n      <td>22</td>\n    </tr>\n    <tr>\n      <th>25</th>\n      <td>../demo/public/asl_alphabet_test/J_test.jpg</td>\n      <td>J_test.jpg</td>\n      <td>J</td>\n      <td>9</td>\n    </tr>\n    <tr>\n      <th>26</th>\n      <td>../demo/public/asl_alphabet_test/D_test.jpg</td>\n      <td>D_test.jpg</td>\n      <td>D</td>\n      <td>3</td>\n    </tr>\n    <tr>\n      <th>27</th>\n      <td>../demo/public/asl_alphabet_test/B_1.jpg</td>\n      <td>B_1.jpg</td>\n      <td>B</td>\n      <td>1</td>\n    </tr>\n    <tr>\n      <th>28</th>\n      <td>../demo/public/asl_alphabet_test/T_test.jpg</td>\n      <td>T_test.jpg</td>\n      <td>T</td>\n      <td>19</td>\n    </tr>\n    <tr>\n      <th>29</th>\n      <td>../demo/public/asl_alphabet_test/I_test.jpg</td>\n      <td>I_test.jpg</td>\n      <td>I</td>\n      <td>8</td>\n    </tr>\n    <tr>\n      <th>30</th>\n      <td>../demo/public/asl_alphabet_test/R_test.jpg</td>\n      <td>R_test.jpg</td>\n      <td>R</td>\n      <td>17</td>\n    </tr>\n    <tr>\n      <th>31</th>\n      <td>../demo/public/asl_alphabet_test/Y_test.jpg</td>\n      <td>Y_test.jpg</td>\n      <td>Y</td>\n      <td>24</td>\n    </tr>\n  </tbody>\n</table>\n</div>"
     },
     "metadata": {},
     "execution_count": 101
    }
   ],
   "source": [
    "for d, a,b  in os.walk('../demo/public/asl_alphabet_test'):\n",
    "    files = filter(lambda f: f.endswith('g'), b) # jpg\n",
    "    filenames = np.array(list(files))\n",
    "    paths = np.array([os.path.join(d, f) for f in filenames])\n",
    "    classes = pd.Series(filenames)\\\n",
    "        .str.extract(r'(?P<class>.*)_.*')['class']\n",
    "    labels = classes\\\n",
    "        .map(lambda lbl: np.argwhere(encoding == lbl)[0][0])\n",
    "    df = pd.DataFrame({\n",
    "        'paths':paths,\n",
    "        'filenames':filenames,\n",
    "        'paths':paths,\n",
    "        'classes':classes,\n",
    "        'labels':labels\n",
    "    })\n",
    "    break\n",
    "labels.values, classes.values"
   ]
  },
  {
   "cell_type": "code",
   "execution_count": 102,
   "metadata": {},
   "outputs": [
    {
     "output_type": "display_data",
     "data": {
      "text/plain": "<PIL.Image.Image image mode=RGB size=64x64 at 0x7F52C26073C8>",
      "image/png": "[encoded data removed]"
     },
     "metadata": {}
    }
   ],
   "source": [
    "from IPython.display import Image \n",
    "imgs = [tf.keras.preprocessing.image.load_img(\n",
    "    path, grayscale=False, color_mode='rgb', target_size=(64, 64),\n",
    "    interpolation='bilinear'\n",
    ") for path in paths]\n",
    "display(imgs[0])"
   ]
  },
  {
   "cell_type": "code",
   "execution_count": null,
   "metadata": {},
   "outputs": [],
   "source": []
  },
  {
   "cell_type": "code",
   "execution_count": 103,
   "metadata": {},
   "outputs": [
    {
     "output_type": "execute_result",
     "data": {
      "text/plain": [
       "(32, 64, 64, 3)"
      ]
     },
     "metadata": {},
     "execution_count": 103
    }
   ],
   "source": [
    "imarrs = np.array([tf.keras.preprocessing.image.img_to_array(img) for img in imgs])\n",
    "imarrs.shape"
   ]
  },
  {
   "cell_type": "code",
   "execution_count": 134,
   "metadata": {},
   "outputs": [
    {
     "output_type": "execute_result",
     "data": {
      "text/plain": [
       "<tf.Tensor 'Const_7:0' shape=(32, 64, 64, 3) dtype=float32>"
      ]
     },
     "metadata": {},
     "execution_count": 134
    }
   ],
   "source": [
    "x=data_augmentor.standardize(imarrs)\n",
    "x = tf.convert_to_tensor(x)\n",
    "x"
   ]
  },
  {
   "cell_type": "code",
   "execution_count": 104,
   "metadata": {},
   "outputs": [
    {
     "output_type": "execute_result",
     "data": {
      "text/plain": [
       "(array([30609., 41765., 35620., 42232., 50240., 62493., 70352., 50770.,\n",
       "         6359.,  2776.]),\n",
       " array([  3. ,  28.2,  53.4,  78.6, 103.8, 129. , 154.2, 179.4, 204.6,\n",
       "        229.8, 255. ], dtype=float32),\n",
       " <BarContainer object of 10 artists>)"
      ]
     },
     "metadata": {},
     "execution_count": 104
    },
    {
     "output_type": "display_data",
     "data": {
      "text/plain": "<Figure size 432x288 with 1 Axes>",
      "image/svg+xml": "<?xml version=\"1.0\" encoding=\"utf-8\" standalone=\"no\"?>\n<!DOCTYPE svg PUBLIC \"-//W3C//DTD SVG 1.1//EN\"\n  \"http://www.w3.org/Graphics/SVG/1.1/DTD/svg11.dtd\">\n<!-- Created with matplotlib (https://matplotlib.org/) -->\n<svg height=\"248.518125pt\" version=\"1.1\" viewBox=\"0 0 388.0125 248.518125\" width=\"388.0125pt\" xmlns=\"http://www.w3.org/2000/svg\" xmlns:xlink=\"http://www.w3.org/1999/xlink\">\n <metadata>\n  <rdf:RDF xmlns:cc=\"http://creativecommons.org/ns#\" xmlns:dc=\"http://purl.org/dc/elements/1.1/\" xmlns:rdf=\"http://www.w3.org/1999/02/22-rdf-syntax-ns#\">\n   <cc:Work>\n    <dc:type rdf:resource=\"http://purl.org/dc/dcmitype/StillImage\"/>\n    <dc:date>2021-02-25T15:54:03.538448</dc:date>\n    <dc:format>image/svg+xml</dc:format>\n    <dc:creator>\n     <cc:Agent>\n      <dc:title>Matplotlib v3.3.4, https://matplotlib.org/</dc:title>\n     </cc:Agent>\n    </dc:creator>\n   </cc:Work>\n  </rdf:RDF>\n </metadata>\n <defs>\n  <style type=\"text/css\">*{stroke-linecap:butt;stroke-linejoin:round;}</style>\n </defs>\n <g id=\"figure_1\">\n  <g id=\"patch_1\">\n   <path d=\"M 0 248.518125 \nL 388.0125 248.518125 \nL 388.0125 0 \nL 0 0 \nz\n\" style=\"fill:none;\"/>\n  </g>\n  <g id=\"axes_1\">\n   <g id=\"patch_2\">\n    <path d=\"M 46.0125 224.64 \nL 380.8125 224.64 \nL 380.8125 7.2 \nL 46.0125 7.2 \nz\n\" style=\"fill:#ffffff;\"/>\n   </g>\n   <g id=\"patch_3\">\n    <path clip-path=\"url(#pd7e10f36c4)\" d=\"M 61.230682 224.64 \nL 91.667047 224.64 \nL 91.667047 134.540406 \nL 61.230682 134.540406 \nz\n\" style=\"fill:#1f77b4;\"/>\n   </g>\n   <g id=\"patch_4\">\n    <path clip-path=\"url(#pd7e10f36c4)\" d=\"M 91.667047 224.64 \nL 122.103412 224.64 \nL 122.103412 101.70199 \nL 91.667047 101.70199 \nz\n\" style=\"fill:#1f77b4;\"/>\n   </g>\n   <g id=\"patch_5\">\n    <path clip-path=\"url(#pd7e10f36c4)\" d=\"M 122.103412 224.64 \nL 152.539772 224.64 \nL 152.539772 119.7902 \nL 122.103412 119.7902 \nz\n\" style=\"fill:#1f77b4;\"/>\n   </g>\n   <g id=\"patch_6\">\n    <path clip-path=\"url(#pd7e10f36c4)\" d=\"M 152.539772 224.64 \nL 182.976141 224.64 \nL 182.976141 100.327345 \nL 152.539772 100.327345 \nz\n\" style=\"fill:#1f77b4;\"/>\n   </g>\n   <g id=\"patch_7\">\n    <path clip-path=\"url(#pd7e10f36c4)\" d=\"M 182.976141 224.64 \nL 213.412501 224.64 \nL 213.412501 76.755273 \nL 182.976141 76.755273 \nz\n\" style=\"fill:#1f77b4;\"/>\n   </g>\n   <g id=\"patch_8\">\n    <path clip-path=\"url(#pd7e10f36c4)\" d=\"M 213.412519 224.64 \nL 243.848879 224.64 \nL 243.848879 40.687766 \nL 213.412519 40.687766 \nz\n\" style=\"fill:#1f77b4;\"/>\n   </g>\n   <g id=\"patch_9\">\n    <path clip-path=\"url(#pd7e10f36c4)\" d=\"M 243.84886 224.64 \nL 274.28522 224.64 \nL 274.28522 17.554286 \nL 243.84886 17.554286 \nz\n\" style=\"fill:#1f77b4;\"/>\n   </g>\n   <g id=\"patch_10\">\n    <path clip-path=\"url(#pd7e10f36c4)\" d=\"M 274.28522 224.64 \nL 304.721599 224.64 \nL 304.721599 75.195184 \nL 274.28522 75.195184 \nz\n\" style=\"fill:#1f77b4;\"/>\n   </g>\n   <g id=\"patch_11\">\n    <path clip-path=\"url(#pd7e10f36c4)\" d=\"M 304.721617 224.64 \nL 335.157977 224.64 \nL 335.157977 205.921868 \nL 304.721617 205.921868 \nz\n\" style=\"fill:#1f77b4;\"/>\n   </g>\n   <g id=\"patch_12\">\n    <path clip-path=\"url(#pd7e10f36c4)\" d=\"M 335.157958 224.64 \nL 365.594318 224.64 \nL 365.594318 216.468662 \nL 335.157958 216.468662 \nz\n\" style=\"fill:#1f77b4;\"/>\n   </g>\n   <g id=\"matplotlib.axis_1\">\n    <g id=\"xtick_1\">\n     <g id=\"line2d_1\">\n      <defs>\n       <path d=\"M 0 0 \nL 0 3.5 \n\" id=\"m4f486c2482\" style=\"stroke:#000000;stroke-width:0.8;\"/>\n      </defs>\n      <g>\n       <use style=\"stroke:#000000;stroke-width:0.8;\" x=\"57.607306\" xlink:href=\"#m4f486c2482\" y=\"224.64\"/>\n      </g>\n     </g>\n     <g id=\"text_1\">\n      <!-- 0 -->\n      <g transform=\"translate(54.426056 239.238437)scale(0.1 -0.1)\">\n       <defs>\n        <path d=\"M 31.78125 66.40625 \nQ 24.171875 66.40625 20.328125 58.90625 \nQ 16.5 51.421875 16.5 36.375 \nQ 16.5 21.390625 20.328125 13.890625 \nQ 24.171875 6.390625 31.78125 6.390625 \nQ 39.453125 6.390625 43.28125 13.890625 \nQ 47.125 21.390625 47.125 36.375 \nQ 47.125 51.421875 43.28125 58.90625 \nQ 39.453125 66.40625 31.78125 66.40625 \nz\nM 31.78125 74.21875 \nQ 44.046875 74.21875 50.515625 64.515625 \nQ 56.984375 54.828125 56.984375 36.375 \nQ 56.984375 17.96875 50.515625 8.265625 \nQ 44.046875 -1.421875 31.78125 -1.421875 \nQ 19.53125 -1.421875 13.0625 8.265625 \nQ 6.59375 17.96875 6.59375 36.375 \nQ 6.59375 54.828125 13.0625 64.515625 \nQ 19.53125 74.21875 31.78125 74.21875 \nz\n\" id=\"DejaVuSans-48\"/>\n       </defs>\n       <use xlink:href=\"#DejaVuSans-48\"/>\n      </g>\n     </g>\n    </g>\n    <g id=\"xtick_2\">\n     <g id=\"line2d_2\">\n      <g>\n       <use style=\"stroke:#000000;stroke-width:0.8;\" x=\"117.996917\" xlink:href=\"#m4f486c2482\" y=\"224.64\"/>\n      </g>\n     </g>\n     <g id=\"text_2\">\n      <!-- 50 -->\n      <g transform=\"translate(111.634417 239.238437)scale(0.1 -0.1)\">\n       <defs>\n        <path d=\"M 10.796875 72.90625 \nL 49.515625 72.90625 \nL 49.515625 64.59375 \nL 19.828125 64.59375 \nL 19.828125 46.734375 \nQ 21.96875 47.46875 24.109375 47.828125 \nQ 26.265625 48.1875 28.421875 48.1875 \nQ 40.625 48.1875 47.75 41.5 \nQ 54.890625 34.8125 54.890625 23.390625 \nQ 54.890625 11.625 47.5625 5.09375 \nQ 40.234375 -1.421875 26.90625 -1.421875 \nQ 22.3125 -1.421875 17.546875 -0.640625 \nQ 12.796875 0.140625 7.71875 1.703125 \nL 7.71875 11.625 \nQ 12.109375 9.234375 16.796875 8.0625 \nQ 21.484375 6.890625 26.703125 6.890625 \nQ 35.15625 6.890625 40.078125 11.328125 \nQ 45.015625 15.765625 45.015625 23.390625 \nQ 45.015625 31 40.078125 35.4375 \nQ 35.15625 39.890625 26.703125 39.890625 \nQ 22.75 39.890625 18.8125 39.015625 \nQ 14.890625 38.140625 10.796875 36.28125 \nz\n\" id=\"DejaVuSans-53\"/>\n       </defs>\n       <use xlink:href=\"#DejaVuSans-53\"/>\n       <use x=\"63.623047\" xlink:href=\"#DejaVuSans-48\"/>\n      </g>\n     </g>\n    </g>\n    <g id=\"xtick_3\">\n     <g id=\"line2d_3\">\n      <g>\n       <use style=\"stroke:#000000;stroke-width:0.8;\" x=\"178.386527\" xlink:href=\"#m4f486c2482\" y=\"224.64\"/>\n      </g>\n     </g>\n     <g id=\"text_3\">\n      <!-- 100 -->\n      <g transform=\"translate(168.842777 239.238437)scale(0.1 -0.1)\">\n       <defs>\n        <path d=\"M 12.40625 8.296875 \nL 28.515625 8.296875 \nL 28.515625 63.921875 \nL 10.984375 60.40625 \nL 10.984375 69.390625 \nL 28.421875 72.90625 \nL 38.28125 72.90625 \nL 38.28125 8.296875 \nL 54.390625 8.296875 \nL 54.390625 0 \nL 12.40625 0 \nz\n\" id=\"DejaVuSans-49\"/>\n       </defs>\n       <use xlink:href=\"#DejaVuSans-49\"/>\n       <use x=\"63.623047\" xlink:href=\"#DejaVuSans-48\"/>\n       <use x=\"127.246094\" xlink:href=\"#DejaVuSans-48\"/>\n      </g>\n     </g>\n    </g>\n    <g id=\"xtick_4\">\n     <g id=\"line2d_4\">\n      <g>\n       <use style=\"stroke:#000000;stroke-width:0.8;\" x=\"238.776137\" xlink:href=\"#m4f486c2482\" y=\"224.64\"/>\n      </g>\n     </g>\n     <g id=\"text_4\">\n      <!-- 150 -->\n      <g transform=\"translate(229.232387 239.238437)scale(0.1 -0.1)\">\n       <use xlink:href=\"#DejaVuSans-49\"/>\n       <use x=\"63.623047\" xlink:href=\"#DejaVuSans-53\"/>\n       <use x=\"127.246094\" xlink:href=\"#DejaVuSans-48\"/>\n      </g>\n     </g>\n    </g>\n    <g id=\"xtick_5\">\n     <g id=\"line2d_5\">\n      <g>\n       <use style=\"stroke:#000000;stroke-width:0.8;\" x=\"299.165747\" xlink:href=\"#m4f486c2482\" y=\"224.64\"/>\n      </g>\n     </g>\n     <g id=\"text_5\">\n      <!-- 200 -->\n      <g transform=\"translate(289.621997 239.238437)scale(0.1 -0.1)\">\n       <defs>\n        <path d=\"M 19.1875 8.296875 \nL 53.609375 8.296875 \nL 53.609375 0 \nL 7.328125 0 \nL 7.328125 8.296875 \nQ 12.9375 14.109375 22.625 23.890625 \nQ 32.328125 33.6875 34.8125 36.53125 \nQ 39.546875 41.84375 41.421875 45.53125 \nQ 43.3125 49.21875 43.3125 52.78125 \nQ 43.3125 58.59375 39.234375 62.25 \nQ 35.15625 65.921875 28.609375 65.921875 \nQ 23.96875 65.921875 18.8125 64.3125 \nQ 13.671875 62.703125 7.8125 59.421875 \nL 7.8125 69.390625 \nQ 13.765625 71.78125 18.9375 73 \nQ 24.125 74.21875 28.421875 74.21875 \nQ 39.75 74.21875 46.484375 68.546875 \nQ 53.21875 62.890625 53.21875 53.421875 \nQ 53.21875 48.921875 51.53125 44.890625 \nQ 49.859375 40.875 45.40625 35.40625 \nQ 44.1875 33.984375 37.640625 27.21875 \nQ 31.109375 20.453125 19.1875 8.296875 \nz\n\" id=\"DejaVuSans-50\"/>\n       </defs>\n       <use xlink:href=\"#DejaVuSans-50\"/>\n       <use x=\"63.623047\" xlink:href=\"#DejaVuSans-48\"/>\n       <use x=\"127.246094\" xlink:href=\"#DejaVuSans-48\"/>\n      </g>\n     </g>\n    </g>\n    <g id=\"xtick_6\">\n     <g id=\"line2d_6\">\n      <g>\n       <use style=\"stroke:#000000;stroke-width:0.8;\" x=\"359.555357\" xlink:href=\"#m4f486c2482\" y=\"224.64\"/>\n      </g>\n     </g>\n     <g id=\"text_6\">\n      <!-- 250 -->\n      <g transform=\"translate(350.011607 239.238437)scale(0.1 -0.1)\">\n       <use xlink:href=\"#DejaVuSans-50\"/>\n       <use x=\"63.623047\" xlink:href=\"#DejaVuSans-53\"/>\n       <use x=\"127.246094\" xlink:href=\"#DejaVuSans-48\"/>\n      </g>\n     </g>\n    </g>\n   </g>\n   <g id=\"matplotlib.axis_2\">\n    <g id=\"ytick_1\">\n     <g id=\"line2d_7\">\n      <defs>\n       <path d=\"M 0 0 \nL -3.5 0 \n\" id=\"m2d7f7e8cce\" style=\"stroke:#000000;stroke-width:0.8;\"/>\n      </defs>\n      <g>\n       <use style=\"stroke:#000000;stroke-width:0.8;\" x=\"46.0125\" xlink:href=\"#m2d7f7e8cce\" y=\"224.64\"/>\n      </g>\n     </g>\n     <g id=\"text_7\">\n      <!-- 0 -->\n      <g transform=\"translate(32.65 228.439219)scale(0.1 -0.1)\">\n       <use xlink:href=\"#DejaVuSans-48\"/>\n      </g>\n     </g>\n    </g>\n    <g id=\"ytick_2\">\n     <g id=\"line2d_8\">\n      <g>\n       <use style=\"stroke:#000000;stroke-width:0.8;\" x=\"46.0125\" xlink:href=\"#m2d7f7e8cce\" y=\"195.204346\"/>\n      </g>\n     </g>\n     <g id=\"text_8\">\n      <!-- 10000 -->\n      <g transform=\"translate(7.2 199.003565)scale(0.1 -0.1)\">\n       <use xlink:href=\"#DejaVuSans-49\"/>\n       <use x=\"63.623047\" xlink:href=\"#DejaVuSans-48\"/>\n       <use x=\"127.246094\" xlink:href=\"#DejaVuSans-48\"/>\n       <use x=\"190.869141\" xlink:href=\"#DejaVuSans-48\"/>\n       <use x=\"254.492188\" xlink:href=\"#DejaVuSans-48\"/>\n      </g>\n     </g>\n    </g>\n    <g id=\"ytick_3\">\n     <g id=\"line2d_9\">\n      <g>\n       <use style=\"stroke:#000000;stroke-width:0.8;\" x=\"46.0125\" xlink:href=\"#m2d7f7e8cce\" y=\"165.768692\"/>\n      </g>\n     </g>\n     <g id=\"text_9\">\n      <!-- 20000 -->\n      <g transform=\"translate(7.2 169.56791)scale(0.1 -0.1)\">\n       <use xlink:href=\"#DejaVuSans-50\"/>\n       <use x=\"63.623047\" xlink:href=\"#DejaVuSans-48\"/>\n       <use x=\"127.246094\" xlink:href=\"#DejaVuSans-48\"/>\n       <use x=\"190.869141\" xlink:href=\"#DejaVuSans-48\"/>\n       <use x=\"254.492188\" xlink:href=\"#DejaVuSans-48\"/>\n      </g>\n     </g>\n    </g>\n    <g id=\"ytick_4\">\n     <g id=\"line2d_10\">\n      <g>\n       <use style=\"stroke:#000000;stroke-width:0.8;\" x=\"46.0125\" xlink:href=\"#m2d7f7e8cce\" y=\"136.333037\"/>\n      </g>\n     </g>\n     <g id=\"text_10\">\n      <!-- 30000 -->\n      <g transform=\"translate(7.2 140.132256)scale(0.1 -0.1)\">\n       <defs>\n        <path d=\"M 40.578125 39.3125 \nQ 47.65625 37.796875 51.625 33 \nQ 55.609375 28.21875 55.609375 21.1875 \nQ 55.609375 10.40625 48.1875 4.484375 \nQ 40.765625 -1.421875 27.09375 -1.421875 \nQ 22.515625 -1.421875 17.65625 -0.515625 \nQ 12.796875 0.390625 7.625 2.203125 \nL 7.625 11.71875 \nQ 11.71875 9.328125 16.59375 8.109375 \nQ 21.484375 6.890625 26.8125 6.890625 \nQ 36.078125 6.890625 40.9375 10.546875 \nQ 45.796875 14.203125 45.796875 21.1875 \nQ 45.796875 27.640625 41.28125 31.265625 \nQ 36.765625 34.90625 28.71875 34.90625 \nL 20.21875 34.90625 \nL 20.21875 43.015625 \nL 29.109375 43.015625 \nQ 36.375 43.015625 40.234375 45.921875 \nQ 44.09375 48.828125 44.09375 54.296875 \nQ 44.09375 59.90625 40.109375 62.90625 \nQ 36.140625 65.921875 28.71875 65.921875 \nQ 24.65625 65.921875 20.015625 65.03125 \nQ 15.375 64.15625 9.8125 62.3125 \nL 9.8125 71.09375 \nQ 15.4375 72.65625 20.34375 73.4375 \nQ 25.25 74.21875 29.59375 74.21875 \nQ 40.828125 74.21875 47.359375 69.109375 \nQ 53.90625 64.015625 53.90625 55.328125 \nQ 53.90625 49.265625 50.4375 45.09375 \nQ 46.96875 40.921875 40.578125 39.3125 \nz\n\" id=\"DejaVuSans-51\"/>\n       </defs>\n       <use xlink:href=\"#DejaVuSans-51\"/>\n       <use x=\"63.623047\" xlink:href=\"#DejaVuSans-48\"/>\n       <use x=\"127.246094\" xlink:href=\"#DejaVuSans-48\"/>\n       <use x=\"190.869141\" xlink:href=\"#DejaVuSans-48\"/>\n       <use x=\"254.492188\" xlink:href=\"#DejaVuSans-48\"/>\n      </g>\n     </g>\n    </g>\n    <g id=\"ytick_5\">\n     <g id=\"line2d_11\">\n      <g>\n       <use style=\"stroke:#000000;stroke-width:0.8;\" x=\"46.0125\" xlink:href=\"#m2d7f7e8cce\" y=\"106.897383\"/>\n      </g>\n     </g>\n     <g id=\"text_11\">\n      <!-- 40000 -->\n      <g transform=\"translate(7.2 110.696602)scale(0.1 -0.1)\">\n       <defs>\n        <path d=\"M 37.796875 64.3125 \nL 12.890625 25.390625 \nL 37.796875 25.390625 \nz\nM 35.203125 72.90625 \nL 47.609375 72.90625 \nL 47.609375 25.390625 \nL 58.015625 25.390625 \nL 58.015625 17.1875 \nL 47.609375 17.1875 \nL 47.609375 0 \nL 37.796875 0 \nL 37.796875 17.1875 \nL 4.890625 17.1875 \nL 4.890625 26.703125 \nz\n\" id=\"DejaVuSans-52\"/>\n       </defs>\n       <use xlink:href=\"#DejaVuSans-52\"/>\n       <use x=\"63.623047\" xlink:href=\"#DejaVuSans-48\"/>\n       <use x=\"127.246094\" xlink:href=\"#DejaVuSans-48\"/>\n       <use x=\"190.869141\" xlink:href=\"#DejaVuSans-48\"/>\n       <use x=\"254.492188\" xlink:href=\"#DejaVuSans-48\"/>\n      </g>\n     </g>\n    </g>\n    <g id=\"ytick_6\">\n     <g id=\"line2d_12\">\n      <g>\n       <use style=\"stroke:#000000;stroke-width:0.8;\" x=\"46.0125\" xlink:href=\"#m2d7f7e8cce\" y=\"77.461729\"/>\n      </g>\n     </g>\n     <g id=\"text_12\">\n      <!-- 50000 -->\n      <g transform=\"translate(7.2 81.260948)scale(0.1 -0.1)\">\n       <use xlink:href=\"#DejaVuSans-53\"/>\n       <use x=\"63.623047\" xlink:href=\"#DejaVuSans-48\"/>\n       <use x=\"127.246094\" xlink:href=\"#DejaVuSans-48\"/>\n       <use x=\"190.869141\" xlink:href=\"#DejaVuSans-48\"/>\n       <use x=\"254.492188\" xlink:href=\"#DejaVuSans-48\"/>\n      </g>\n     </g>\n    </g>\n    <g id=\"ytick_7\">\n     <g id=\"line2d_13\">\n      <g>\n       <use style=\"stroke:#000000;stroke-width:0.8;\" x=\"46.0125\" xlink:href=\"#m2d7f7e8cce\" y=\"48.026075\"/>\n      </g>\n     </g>\n     <g id=\"text_13\">\n      <!-- 60000 -->\n      <g transform=\"translate(7.2 51.825294)scale(0.1 -0.1)\">\n       <defs>\n        <path d=\"M 33.015625 40.375 \nQ 26.375 40.375 22.484375 35.828125 \nQ 18.609375 31.296875 18.609375 23.390625 \nQ 18.609375 15.53125 22.484375 10.953125 \nQ 26.375 6.390625 33.015625 6.390625 \nQ 39.65625 6.390625 43.53125 10.953125 \nQ 47.40625 15.53125 47.40625 23.390625 \nQ 47.40625 31.296875 43.53125 35.828125 \nQ 39.65625 40.375 33.015625 40.375 \nz\nM 52.59375 71.296875 \nL 52.59375 62.3125 \nQ 48.875 64.0625 45.09375 64.984375 \nQ 41.3125 65.921875 37.59375 65.921875 \nQ 27.828125 65.921875 22.671875 59.328125 \nQ 17.53125 52.734375 16.796875 39.40625 \nQ 19.671875 43.65625 24.015625 45.921875 \nQ 28.375 48.1875 33.59375 48.1875 \nQ 44.578125 48.1875 50.953125 41.515625 \nQ 57.328125 34.859375 57.328125 23.390625 \nQ 57.328125 12.15625 50.6875 5.359375 \nQ 44.046875 -1.421875 33.015625 -1.421875 \nQ 20.359375 -1.421875 13.671875 8.265625 \nQ 6.984375 17.96875 6.984375 36.375 \nQ 6.984375 53.65625 15.1875 63.9375 \nQ 23.390625 74.21875 37.203125 74.21875 \nQ 40.921875 74.21875 44.703125 73.484375 \nQ 48.484375 72.75 52.59375 71.296875 \nz\n\" id=\"DejaVuSans-54\"/>\n       </defs>\n       <use xlink:href=\"#DejaVuSans-54\"/>\n       <use x=\"63.623047\" xlink:href=\"#DejaVuSans-48\"/>\n       <use x=\"127.246094\" xlink:href=\"#DejaVuSans-48\"/>\n       <use x=\"190.869141\" xlink:href=\"#DejaVuSans-48\"/>\n       <use x=\"254.492188\" xlink:href=\"#DejaVuSans-48\"/>\n      </g>\n     </g>\n    </g>\n    <g id=\"ytick_8\">\n     <g id=\"line2d_14\">\n      <g>\n       <use style=\"stroke:#000000;stroke-width:0.8;\" x=\"46.0125\" xlink:href=\"#m2d7f7e8cce\" y=\"18.590421\"/>\n      </g>\n     </g>\n     <g id=\"text_14\">\n      <!-- 70000 -->\n      <g transform=\"translate(7.2 22.389639)scale(0.1 -0.1)\">\n       <defs>\n        <path d=\"M 8.203125 72.90625 \nL 55.078125 72.90625 \nL 55.078125 68.703125 \nL 28.609375 0 \nL 18.3125 0 \nL 43.21875 64.59375 \nL 8.203125 64.59375 \nz\n\" id=\"DejaVuSans-55\"/>\n       </defs>\n       <use xlink:href=\"#DejaVuSans-55\"/>\n       <use x=\"63.623047\" xlink:href=\"#DejaVuSans-48\"/>\n       <use x=\"127.246094\" xlink:href=\"#DejaVuSans-48\"/>\n       <use x=\"190.869141\" xlink:href=\"#DejaVuSans-48\"/>\n       <use x=\"254.492188\" xlink:href=\"#DejaVuSans-48\"/>\n      </g>\n     </g>\n    </g>\n   </g>\n   <g id=\"patch_13\">\n    <path d=\"M 46.0125 224.64 \nL 46.0125 7.2 \n\" style=\"fill:none;stroke:#000000;stroke-linecap:square;stroke-linejoin:miter;stroke-width:0.8;\"/>\n   </g>\n   <g id=\"patch_14\">\n    <path d=\"M 380.8125 224.64 \nL 380.8125 7.2 \n\" style=\"fill:none;stroke:#000000;stroke-linecap:square;stroke-linejoin:miter;stroke-width:0.8;\"/>\n   </g>\n   <g id=\"patch_15\">\n    <path d=\"M 46.0125 224.64 \nL 380.8125 224.64 \n\" style=\"fill:none;stroke:#000000;stroke-linecap:square;stroke-linejoin:miter;stroke-width:0.8;\"/>\n   </g>\n   <g id=\"patch_16\">\n    <path d=\"M 46.0125 7.2 \nL 380.8125 7.2 \n\" style=\"fill:none;stroke:#000000;stroke-linecap:square;stroke-linejoin:miter;stroke-width:0.8;\"/>\n   </g>\n  </g>\n </g>\n <defs>\n  <clipPath id=\"pd7e10f36c4\">\n   <rect height=\"217.44\" width=\"334.8\" x=\"46.0125\" y=\"7.2\"/>\n  </clipPath>\n </defs>\n</svg>\n",
      "image/png": "[encoded data removed]"
     },
     "metadata": {
      "needs_background": "light"
     }
    }
   ],
   "source": [
    "plt.hist(imarrs.flatten())"
   ]
  },
  {
   "cell_type": "code",
   "execution_count": 132,
   "metadata": {},
   "outputs": [
    {
     "output_type": "execute_result",
     "data": {
      "text/plain": [
       "<tf.Tensor 'Const_5:0' shape=(32, 64, 64, 3) dtype=float32>"
      ]
     },
     "metadata": {},
     "execution_count": 132
    }
   ],
   "source": [
    "x = tf.convert_to_tensor(imarrs)\n",
    "# x = tf.keras.applications.mobilenet_v2.preprocess_input(x)\n",
    "x"
   ]
  },
  {
   "cell_type": "code",
   "execution_count": 109,
   "metadata": {},
   "outputs": [],
   "source": [
    "# plt.hist(x.numpy().flatten())"
   ]
  },
  {
   "cell_type": "markdown",
   "metadata": {},
   "source": [
    "A random batch"
   ]
  },
  {
   "cell_type": "code",
   "execution_count": 110,
   "metadata": {},
   "outputs": [
    {
     "output_type": "execute_result",
     "data": {
      "text/plain": [
       "array([3.7190875e-19, 2.0699164e-23, 2.8730776e-26, 2.4897717e-27,\n",
       "       7.9088727e-23, 3.1155714e-32, 1.9934511e-18, 8.0536604e-18,\n",
       "       1.2185931e-22, 2.7953375e-25, 1.0980109e-26, 4.6250824e-30,\n",
       "       4.3568547e-26, 1.5346510e-22, 1.9455815e-24, 8.0520772e-22,\n",
       "       9.0491540e-22, 1.7026111e-20, 3.0608886e-16, 1.8415627e-23,\n",
       "       2.0155003e-21, 6.7009268e-20, 6.0485846e-29, 1.9674224e-21,\n",
       "       1.0291352e-19, 7.1339158e-20, 2.0008579e-24, 1.0000000e+00,\n",
       "       2.2658684e-24], dtype=float32)"
      ]
     },
     "metadata": {},
     "execution_count": 110
    }
   ],
   "source": [
    "x1 = tf.random.uniform((32, 64, 64, 3))\n",
    "model.predict(x1, steps=1)[0]"
   ]
  },
  {
   "cell_type": "markdown",
   "metadata": {},
   "source": [
    "Input images"
   ]
  },
  {
   "cell_type": "code",
   "execution_count": 135,
   "metadata": {},
   "outputs": [
    {
     "output_type": "execute_result",
     "data": {
      "text/plain": [
       "array([2.7634277e-30, 1.5734985e-28, 0.0000000e+00, 0.0000000e+00,\n",
       "       5.9156937e-34, 0.0000000e+00, 2.5828823e-30, 1.0367585e-29,\n",
       "       2.8903503e-24, 1.9649793e-34, 1.0000000e+00, 2.7121168e-24,\n",
       "       7.7822465e-16, 1.0304392e-27, 1.6023486e-29, 0.0000000e+00,\n",
       "       0.0000000e+00, 1.0630703e-22, 0.0000000e+00, 4.3028642e-32,\n",
       "       9.9459221e-27, 3.7305762e-15, 5.6080079e-26, 3.1821326e-36,\n",
       "       0.0000000e+00, 0.0000000e+00, 0.0000000e+00, 0.0000000e+00,\n",
       "       0.0000000e+00], dtype=float32)"
      ]
     },
     "metadata": {},
     "execution_count": 135
    }
   ],
   "source": [
    "predictions = model.predict(x, steps=1)\n",
    "predictions[0]"
   ]
  },
  {
   "cell_type": "code",
   "execution_count": 112,
   "metadata": {},
   "outputs": [
    {
     "output_type": "execute_result",
     "data": {
      "text/plain": [
       "1.0"
      ]
     },
     "metadata": {},
     "execution_count": 112
    }
   ],
   "source": [
    "np.sum(predictions[0])"
   ]
  },
  {
   "cell_type": "code",
   "execution_count": 136,
   "metadata": {},
   "outputs": [
    {
     "output_type": "execute_result",
     "data": {
      "text/plain": [
       "array([10,  1, 21,  0, 11, 15, 23, 13, 25,  3, 27, 18,  7,  2, 28,  6, 14,\n",
       "        2,  4,  5,  0, 16, 12, 20, 22,  9,  3,  1, 19,  8, 17, 24])"
      ]
     },
     "metadata": {},
     "execution_count": 136
    }
   ],
   "source": [
    "intlabels_p = np.argmax(predictions, axis=1)\n",
    "intlabels_p"
   ]
  },
  {
   "cell_type": "code",
   "execution_count": 120,
   "metadata": {},
   "outputs": [
    {
     "output_type": "execute_result",
     "data": {
      "text/plain": [
       "array([10,  1, 21,  0, 11, 15, 23, 13, 25,  3, 27, 18,  7,  2, 28,  6, 14,\n",
       "        2,  4,  5,  0, 16, 12, 20, 22,  9,  3,  1, 19,  8, 17, 24])"
      ]
     },
     "metadata": {},
     "execution_count": 120
    }
   ],
   "source": [
    "df['labels'].values"
   ]
  },
  {
   "cell_type": "code",
   "execution_count": 52,
   "metadata": {},
   "outputs": [
    {
     "output_type": "execute_result",
     "data": {
      "text/plain": [
       "(1, 'out of', 32)"
      ]
     },
     "metadata": {},
     "execution_count": 52
    }
   ],
   "source": [
    "sum(intlabels_p == intlabels), 'out of', 32"
   ]
  },
  {
   "cell_type": "code",
   "execution_count": null,
   "metadata": {},
   "outputs": [],
   "source": []
  }
 ],
 "metadata": {
  "kernelspec": {
   "display_name": "Python 3",
   "language": "python",
   "name": "python3"
  },
  "language_info": {
   "codemirror_mode": {
    "name": "ipython",
    "version": 3
   },
   "file_extension": ".py",
   "mimetype": "text/x-python",
   "name": "python",
   "nbconvert_exporter": "python",
   "pygments_lexer": "ipython3",
   "version": "3.7.3-final"
  }
 },
 "nbformat": 4,
 "nbformat_minor": 4
}